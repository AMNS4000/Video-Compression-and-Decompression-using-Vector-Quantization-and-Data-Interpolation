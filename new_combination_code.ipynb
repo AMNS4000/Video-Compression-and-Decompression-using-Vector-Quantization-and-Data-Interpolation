{
 "cells": [
  {
   "cell_type": "code",
   "execution_count": 1,
   "id": "7b9bedf9",
   "metadata": {},
   "outputs": [
    {
     "name": "stderr",
     "output_type": "stream",
     "text": [
      "c:\\Users\\naman\\AppData\\Local\\Programs\\Python\\Python310\\lib\\site-packages\\numpy\\_distributor_init.py:30: UserWarning: loaded more than 1 DLL from .libs:\n",
      "c:\\Users\\naman\\AppData\\Local\\Programs\\Python\\Python310\\lib\\site-packages\\numpy\\.libs\\libopenblas.EL2C6PLE4ZYW3ECEVIV3OXXGRN2NRFM2.gfortran-win_amd64.dll\n",
      "c:\\Users\\naman\\AppData\\Local\\Programs\\Python\\Python310\\lib\\site-packages\\numpy\\.libs\\libopenblas64__v0.3.21-gcc_10_3_0.dll\n",
      "  warnings.warn(\"loaded more than 1 DLL from .libs:\"\n"
     ]
    },
    {
     "name": "stdout",
     "output_type": "stream",
     "text": [
      "MoviePy - Writing audio in extracted_audio1.wav\n"
     ]
    },
    {
     "name": "stderr",
     "output_type": "stream",
     "text": [
      "                                                                        "
     ]
    },
    {
     "name": "stdout",
     "output_type": "stream",
     "text": [
      "MoviePy - Done.\n"
     ]
    },
    {
     "name": "stderr",
     "output_type": "stream",
     "text": [
      "\r"
     ]
    }
   ],
   "source": [
    "import moviepy.editor as mp\n",
    "import librosa\n",
    "import os\n",
    "s1 = os.getcwd()\n",
    "video_path = s1+'/AvengersEndgme.mp4'\n",
    "output_audio_path = 'extracted_audio1.wav'  \n",
    "video = mp.VideoFileClip(video_path)\n",
    "audio = video.audio\n",
    "audio.write_audiofile(output_audio_path)\n",
    "video.close()\n"
   ]
  },
  {
   "cell_type": "code",
   "execution_count": 2,
   "id": "a3f074d5",
   "metadata": {},
   "outputs": [],
   "source": [
    "import soundfile as sf\n",
    "wavFile = r'extracted_audio1.wav'\n",
    "data, samplerate = sf.read(wavFile) \n",
    "D = 2\n",
    "new_data = data[::D, :]\n",
    "Fs = samplerate\n",
    "wavCompressedFile = r\"new.wav\" \n",
    "sf.write(wavCompressedFile, new_data, int(Fs / D), 'PCM_16')\n",
    "import numpy as np\n",
    "data, Fs = sf.read(wavCompressedFile)\n",
    "upsampled_data = np.repeat(data, D, axis=0)\n",
    "upsampled_file = 'final_audio.wav'\n",
    "sf.write(upsampled_file, upsampled_data, Fs * D, 'PCM_16')"
   ]
  },
  {
   "cell_type": "code",
   "execution_count": 3,
   "id": "ea70484b",
   "metadata": {},
   "outputs": [],
   "source": [
    "import os\n",
    "from moviepy.editor import VideoFileClip, ImageSequenceClip\n",
    "decompressed_folder = \"Decompressed\"\n",
    "output_video = 'reconstructed_video.mp4'\n",
    "num_decompressed_frames = len(os.listdir(decompressed_folder))\n",
    "decomp_frames = [f'frame_{i:04d}.png' for i in range(num_decompressed_frames)]\n",
    "no_of_repititions = 100\n",
    "frame_repeat = [frame for frame in decomp_frames for _ in range(no_of_repititions)]\n",
    "repeated_frames = [os.path.join(decompressed_folder, frame) for frame in decomp_frames for _ in range(no_of_repititions)]\n",
    "video_clip = ImageSequenceClip(repeated_frames, fps=24)\n",
    "video_clip.write_videofile(output_video, audio=False)"
   ]
  },
  {
   "cell_type": "code",
   "execution_count": null,
   "id": "fd71b858",
   "metadata": {},
   "outputs": [
    {
     "name": "stdout",
     "output_type": "stream",
     "text": [
      "Moviepy - Building video final_video.mp4.\n",
      "MoviePy - Writing audio in final_videoTEMP_MPY_wvf_snd.mp3\n"
     ]
    },
    {
     "name": "stderr",
     "output_type": "stream",
     "text": [
      "                                                                        \r"
     ]
    },
    {
     "name": "stdout",
     "output_type": "stream",
     "text": [
      "MoviePy - Done.\n",
      "Moviepy - Writing video final_video.mp4\n",
      "\n"
     ]
    },
    {
     "name": "stderr",
     "output_type": "stream",
     "text": [
      "                                                                  \r"
     ]
    },
    {
     "name": "stdout",
     "output_type": "stream",
     "text": [
      "Moviepy - Done !\n",
      "Moviepy - video ready final_video.mp4\n"
     ]
    }
   ],
   "source": [
    "from moviepy.editor import VideoFileClip, AudioFileClip\n",
    "vid_clip = VideoFileClip(\"reconstructed_video.mp4\")\n",
    "audio_clip = AudioFileClip(\"final_audio.wav\")\n",
    "vid_clip = video_clip.set_audio(audio_clip)\n",
    "output_video_path = \"final_video.mp4\"\n",
    "vid_clip.write_videofile(output_video_path, audio=True)"
   ]
  }
 ],
 "metadata": {
  "kernelspec": {
   "display_name": "Python 3 (ipykernel)",
   "language": "python",
   "name": "python3"
  },
  "language_info": {
   "codemirror_mode": {
    "name": "ipython",
    "version": 3
   },
   "file_extension": ".py",
   "mimetype": "text/x-python",
   "name": "python",
   "nbconvert_exporter": "python",
   "pygments_lexer": "ipython3",
   "version": "3.10.1"
  }
 },
 "nbformat": 4,
 "nbformat_minor": 5
}
